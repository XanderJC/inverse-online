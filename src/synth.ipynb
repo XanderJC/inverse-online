{
 "metadata": {
  "language_info": {
   "codemirror_mode": {
    "name": "ipython",
    "version": 3
   },
   "file_extension": ".py",
   "mimetype": "text/x-python",
   "name": "python",
   "nbconvert_exporter": "python",
   "pygments_lexer": "ipython3",
   "version": "3.7.4"
  },
  "orig_nbformat": 2,
  "kernelspec": {
   "name": "pythonjvsc74a57bd05450162a780aa529774b9946de86dd99233d8466ac6d0107994df2621d8f1884",
   "display_name": "Python 3.7.4 64-bit ('venv': venv)"
  },
  "metadata": {
   "interpreter": {
    "hash": "5450162a780aa529774b9946de86dd99233d8466ac6d0107994df2621d8f1884"
   }
  }
 },
 "nbformat": 4,
 "nbformat_minor": 2,
 "cells": [
  {
   "cell_type": "code",
   "execution_count": 5,
   "metadata": {},
   "outputs": [],
   "source": [
    "from src.constants import SIM_COV_DIM, SIM_ACT_DIM, SIM_OUT_DIM\n",
    "from src.models import (\n",
    "    AdaptiveLinearModel,\n",
    "    BehaviouralCloning,\n",
    "    BehaviouralCloningLSTM,\n",
    "    BehaviouralCloningDeep,\n",
    "    RCAL,\n",
    "    CIRL,\n",
    ")  # noqa: F401\n",
    "from src.data_loading import generate_linear_dataset, get_centre_data\n",
    "import numpy as np"
   ]
  },
  {
   "cell_type": "code",
   "execution_count": 7,
   "metadata": {},
   "outputs": [],
   "source": [
    "training_data = generate_linear_dataset(10000, 50, seed=41310)\n",
    "validation_data = generate_linear_dataset(1000, 50, seed=41310).get_whole_batch()"
   ]
  },
  {
   "cell_type": "code",
   "execution_count": 3,
   "metadata": {},
   "outputs": [],
   "source": [
    "true_omega = training_data.betas"
   ]
  },
  {
   "cell_type": "code",
   "execution_count": null,
   "metadata": {},
   "outputs": [],
   "source": [
    "len(true_omega[0][0][0])"
   ]
  },
  {
   "cell_type": "code",
   "execution_count": 4,
   "metadata": {},
   "outputs": [
    {
     "output_type": "execute_result",
     "data": {
      "text/plain": [
       "array([-1.12186692,  1.17518288])"
      ]
     },
     "metadata": {},
     "execution_count": 4
    }
   ],
   "source": [
    "true_omega[0][0][0]"
   ]
  },
  {
   "cell_type": "code",
   "execution_count": 46,
   "metadata": {},
   "outputs": [],
   "source": [
    "omegas = np.zeros((10000,50,5,2))\n",
    "\n",
    "for i in range(10000):\n",
    "    for j in range(50):\n",
    "        for k in range(5):\n",
    "            omegas[i,j,k] = true_omega[i][j][k]\n"
   ]
  },
  {
   "cell_type": "code",
   "execution_count": 11,
   "metadata": {},
   "outputs": [],
   "source": [
    "hyperparams = {\n",
    "    \"covariate_size\": 5,\n",
    "    \"action_size\": 2,\n",
    "    \"outcome_size\": 1,\n",
    "    \"memory_hidden_size\": 32,\n",
    "    \"memory_layers\": 1,\n",
    "    \"memory_dropout\": 0,\n",
    "    \"memory_size\": 16,\n",
    "    \"outcome_hidden_size\": 32,\n",
    "    \"outcome_layers\": 1,\n",
    "    \"inf_hidden_size\": 16,\n",
    "    \"inf_layers\": 1,\n",
    "    \"inf_dropout\": 0.5,\n",
    "    \"inf_fc_size\": 32,\n",
    "    \"hidden_size\": 64,\n",
    "}"
   ]
  },
  {
   "cell_type": "code",
   "execution_count": 78,
   "metadata": {},
   "outputs": [
    {
     "output_type": "stream",
     "name": "stdout",
     "text": [
      "Epoch 1 average loss: 0.60079 (16.21 seconds)\n",
      "Epoch 1 ACC: 0.97728\n",
      "Epoch 1 AUC: 0.9905\n",
      "Epoch 1 APR: 0.98788\n",
      "Epoch 1 NLL: 0.09099\n",
      "Epoch 2 average loss: 0.12008 (15.26 seconds)\n",
      "Epoch 2 ACC: 0.85592\n",
      "Epoch 2 AUC: 0.92267\n",
      "Epoch 2 APR: 0.8914\n",
      "Epoch 2 NLL: 0.64122\n"
     ]
    }
   ],
   "source": [
    "model = AdaptiveLinearModel\n",
    "model = model(**hyperparams)\n",
    "model.fit(\n",
    "    training_data,\n",
    "    batch_size=100,\n",
    "    epochs=2,\n",
    "    learning_rate=0.01,\n",
    "    validation_set=validation_data,\n",
    ")"
   ]
  },
  {
   "cell_type": "code",
   "execution_count": 82,
   "metadata": {},
   "outputs": [],
   "source": [
    "info = model.inspection(training_data.get_whole_batch())\n",
    "omega1 = info[\"omega_1_posterior\"]\n",
    "omega1 = omega1.detach().numpy()\n",
    "\n",
    "omega0 = info[\"omega_0_posterior\"]\n",
    "omega0 = omega0.detach().numpy()"
   ]
  },
  {
   "cell_type": "code",
   "execution_count": 75,
   "metadata": {},
   "outputs": [
    {
     "output_type": "execute_result",
     "data": {
      "text/plain": [
       "(10000, 50, 5)"
      ]
     },
     "metadata": {},
     "execution_count": 75
    }
   ],
   "source": [
    "omega1.shape"
   ]
  },
  {
   "cell_type": "code",
   "execution_count": 84,
   "metadata": {},
   "outputs": [],
   "source": [
    "omega_hat = np.zeros((10000,50,5,2))\n",
    "omega_hat[:,:,:,0] = omega0\n",
    "omega_hat[:,:,:,1] = omega1"
   ]
  },
  {
   "cell_type": "code",
   "execution_count": 85,
   "metadata": {},
   "outputs": [
    {
     "output_type": "execute_result",
     "data": {
      "text/plain": [
       "1.9666802847335194"
      ]
     },
     "metadata": {},
     "execution_count": 85
    }
   ],
   "source": [
    "((omegas - omega_hat)**2).mean()"
   ]
  },
  {
   "cell_type": "code",
   "execution_count": 65,
   "metadata": {},
   "outputs": [
    {
     "output_type": "stream",
     "name": "stdout",
     "text": [
      "Epoch 1 average loss: 0.65467 (0.49 seconds)\n",
      "Epoch 1 ACC: 0.64256\n",
      "Epoch 1 AUC: 0.50237\n",
      "Epoch 1 APR: 0.50075\n",
      "Epoch 1 NLL: 0.65195\n",
      "Epoch 2 average loss: 0.65044 (0.39 seconds)\n",
      "Epoch 2 ACC: 0.64256\n",
      "Epoch 2 AUC: 0.49955\n",
      "Epoch 2 APR: 0.5002\n",
      "Epoch 2 NLL: 0.65198\n",
      "Epoch 3 average loss: 0.65045 (0.4 seconds)\n",
      "Epoch 3 ACC: 0.64256\n",
      "Epoch 3 AUC: 0.4985\n",
      "Epoch 3 APR: 0.49886\n",
      "Epoch 3 NLL: 0.65196\n",
      "Epoch 4 average loss: 0.65042 (0.39 seconds)\n",
      "Epoch 4 ACC: 0.64256\n",
      "Epoch 4 AUC: 0.50113\n",
      "Epoch 4 APR: 0.5014\n",
      "Epoch 4 NLL: 0.6521\n",
      "Epoch 5 average loss: 0.65045 (0.4 seconds)\n",
      "Epoch 5 ACC: 0.64256\n",
      "Epoch 5 AUC: 0.49964\n",
      "Epoch 5 APR: 0.49947\n",
      "Epoch 5 NLL: 0.65212\n",
      "Epoch 6 average loss: 0.65045 (0.49 seconds)\n",
      "Epoch 6 ACC: 0.64256\n",
      "Epoch 6 AUC: 0.50151\n",
      "Epoch 6 APR: 0.50075\n",
      "Epoch 6 NLL: 0.65218\n",
      "Epoch 7 average loss: 0.65045 (0.41 seconds)\n",
      "Epoch 7 ACC: 0.64256\n",
      "Epoch 7 AUC: 0.50379\n",
      "Epoch 7 APR: 0.50214\n",
      "Epoch 7 NLL: 0.65198\n",
      "Epoch 8 average loss: 0.6505 (0.4 seconds)\n",
      "Epoch 8 ACC: 0.64256\n",
      "Epoch 8 AUC: 0.50298\n",
      "Epoch 8 APR: 0.50225\n",
      "Epoch 8 NLL: 0.65197\n",
      "Epoch 9 average loss: 0.65045 (0.38 seconds)\n",
      "Epoch 9 ACC: 0.64256\n",
      "Epoch 9 AUC: 0.50379\n",
      "Epoch 9 APR: 0.50315\n",
      "Epoch 9 NLL: 0.65192\n",
      "Epoch 10 average loss: 0.65045 (0.38 seconds)\n",
      "Epoch 10 ACC: 0.64256\n",
      "Epoch 10 AUC: 0.50189\n",
      "Epoch 10 APR: 0.50145\n",
      "Epoch 10 NLL: 0.65201\n",
      "Epoch 11 average loss: 0.65041 (0.5 seconds)\n",
      "Epoch 11 ACC: 0.64256\n",
      "Epoch 11 AUC: 0.50238\n",
      "Epoch 11 APR: 0.50142\n",
      "Epoch 11 NLL: 0.65211\n",
      "Epoch 12 average loss: 0.65044 (0.59 seconds)\n",
      "Epoch 12 ACC: 0.64256\n",
      "Epoch 12 AUC: 0.50061\n",
      "Epoch 12 APR: 0.50029\n",
      "Epoch 12 NLL: 0.65194\n",
      "Epoch 13 average loss: 0.6504 (0.47 seconds)\n",
      "Epoch 13 ACC: 0.64256\n",
      "Epoch 13 AUC: 0.5004\n",
      "Epoch 13 APR: 0.50053\n",
      "Epoch 13 NLL: 0.65218\n",
      "Epoch 14 average loss: 0.65045 (0.38 seconds)\n",
      "Epoch 14 ACC: 0.64256\n",
      "Epoch 14 AUC: 0.49997\n",
      "Epoch 14 APR: 0.49967\n",
      "Epoch 14 NLL: 0.65203\n",
      "Epoch 15 average loss: 0.65044 (0.35 seconds)\n",
      "Epoch 15 ACC: 0.64256\n",
      "Epoch 15 AUC: 0.50258\n",
      "Epoch 15 APR: 0.50049\n",
      "Epoch 15 NLL: 0.65204\n",
      "Epoch 16 average loss: 0.65044 (0.36 seconds)\n",
      "Epoch 16 ACC: 0.64256\n",
      "Epoch 16 AUC: 0.50252\n",
      "Epoch 16 APR: 0.50219\n",
      "Epoch 16 NLL: 0.65196\n",
      "Epoch 17 average loss: 0.6504 (0.35 seconds)\n",
      "Epoch 17 ACC: 0.64256\n",
      "Epoch 17 AUC: 0.49799\n",
      "Epoch 17 APR: 0.49933\n",
      "Epoch 17 NLL: 0.65245\n",
      "Epoch 18 average loss: 0.6505 (0.37 seconds)\n",
      "Epoch 18 ACC: 0.64256\n",
      "Epoch 18 AUC: 0.49678\n",
      "Epoch 18 APR: 0.49783\n",
      "Epoch 18 NLL: 0.65194\n",
      "Epoch 19 average loss: 0.65044 (0.35 seconds)\n",
      "Epoch 19 ACC: 0.64256\n",
      "Epoch 19 AUC: 0.50001\n",
      "Epoch 19 APR: 0.50062\n",
      "Epoch 19 NLL: 0.65199\n",
      "Epoch 20 average loss: 0.65045 (0.35 seconds)\n",
      "Epoch 20 ACC: 0.64256\n",
      "Epoch 20 AUC: 0.50117\n",
      "Epoch 20 APR: 0.49986\n",
      "Epoch 20 NLL: 0.65205\n",
      "Epoch 21 average loss: 0.65046 (0.35 seconds)\n",
      "Epoch 21 ACC: 0.64256\n",
      "Epoch 21 AUC: 0.49542\n",
      "Epoch 21 APR: 0.49775\n",
      "Epoch 21 NLL: 0.65198\n",
      "Epoch 22 average loss: 0.65043 (0.34 seconds)\n",
      "Epoch 22 ACC: 0.64256\n",
      "Epoch 22 AUC: 0.49899\n",
      "Epoch 22 APR: 0.4995\n",
      "Epoch 22 NLL: 0.65208\n",
      "Epoch 23 average loss: 0.65043 (0.35 seconds)\n",
      "Epoch 23 ACC: 0.64256\n",
      "Epoch 23 AUC: 0.50136\n",
      "Epoch 23 APR: 0.50226\n",
      "Epoch 23 NLL: 0.65225\n",
      "Epoch 24 average loss: 0.65043 (0.35 seconds)\n",
      "Epoch 24 ACC: 0.64256\n",
      "Epoch 24 AUC: 0.49951\n",
      "Epoch 24 APR: 0.50007\n",
      "Epoch 24 NLL: 0.65201\n",
      "Epoch 25 average loss: 0.65042 (0.49 seconds)\n",
      "Epoch 25 ACC: 0.64256\n",
      "Epoch 25 AUC: 0.49959\n",
      "Epoch 25 APR: 0.49901\n",
      "Epoch 25 NLL: 0.65197\n",
      "Epoch 26 average loss: 0.65043 (0.43 seconds)\n",
      "Epoch 26 ACC: 0.64256\n",
      "Epoch 26 AUC: 0.5007\n",
      "Epoch 26 APR: 0.50039\n",
      "Epoch 26 NLL: 0.65211\n",
      "Epoch 27 average loss: 0.65043 (0.4 seconds)\n",
      "Epoch 27 ACC: 0.64256\n",
      "Epoch 27 AUC: 0.50053\n",
      "Epoch 27 APR: 0.49935\n",
      "Epoch 27 NLL: 0.65196\n",
      "Epoch 28 average loss: 0.65045 (0.39 seconds)\n",
      "Epoch 28 ACC: 0.64256\n",
      "Epoch 28 AUC: 0.49747\n",
      "Epoch 28 APR: 0.49863\n",
      "Epoch 28 NLL: 0.6521\n",
      "Epoch 29 average loss: 0.65044 (0.35 seconds)\n",
      "Epoch 29 ACC: 0.64256\n",
      "Epoch 29 AUC: 0.50035\n",
      "Epoch 29 APR: 0.49994\n",
      "Epoch 29 NLL: 0.65207\n",
      "Epoch 30 average loss: 0.65047 (0.36 seconds)\n",
      "Epoch 30 ACC: 0.64256\n",
      "Epoch 30 AUC: 0.50211\n",
      "Epoch 30 APR: 0.50076\n",
      "Epoch 30 NLL: 0.65197\n"
     ]
    }
   ],
   "source": [
    "model = BehaviouralCloning\n",
    "model = model(**hyperparams)\n",
    "model.fit(\n",
    "    training_data,\n",
    "    batch_size=100,\n",
    "    epochs=30,\n",
    "    learning_rate=0.01,\n",
    "    validation_set=validation_data,\n",
    ")"
   ]
  },
  {
   "cell_type": "code",
   "execution_count": 66,
   "metadata": {},
   "outputs": [],
   "source": [
    "om = list()\n",
    "for param in model.linear.parameters():\n",
    "    om.append(param)"
   ]
  },
  {
   "cell_type": "code",
   "execution_count": 41,
   "metadata": {},
   "outputs": [
    {
     "output_type": "execute_result",
     "data": {
      "text/plain": [
       "(5, 2)"
      ]
     },
     "metadata": {},
     "execution_count": 41
    }
   ],
   "source": [
    "om[0].detach().numpy().T.shape"
   ]
  },
  {
   "cell_type": "code",
   "execution_count": 67,
   "metadata": {},
   "outputs": [],
   "source": [
    "omega_hat = np.zeros((10000,50,5,2))\n",
    "\n",
    "for i in range(10000):\n",
    "    for j in range(50):\n",
    "            omega_hat[i,j] = om[0].detach().numpy().T"
   ]
  },
  {
   "cell_type": "code",
   "execution_count": 68,
   "metadata": {},
   "outputs": [
    {
     "output_type": "execute_result",
     "data": {
      "text/plain": [
       "0.9550398227441694"
      ]
     },
     "metadata": {},
     "execution_count": 68
    }
   ],
   "source": [
    "((omegas - omega_hat)**2).mean()"
   ]
  },
  {
   "cell_type": "code",
   "execution_count": 69,
   "metadata": {},
   "outputs": [
    {
     "output_type": "execute_result",
     "data": {
      "text/plain": [
       "array([[ 0.13360591,  0.16040416],\n",
       "       [-0.11670476, -0.08233473],\n",
       "       [-0.39442605, -0.42886418],\n",
       "       [ 0.02830347,  0.04954521],\n",
       "       [ 0.28697681,  0.25019741]])"
      ]
     },
     "metadata": {},
     "execution_count": 69
    }
   ],
   "source": [
    "om[0].detach().numpy().T"
   ]
  },
  {
   "cell_type": "code",
   "execution_count": 71,
   "metadata": {},
   "outputs": [
    {
     "output_type": "execute_result",
     "data": {
      "text/plain": [
       "array([[ 0.64942544,  0.17334391],\n",
       "       [-0.76233122, -0.1311509 ],\n",
       "       [-0.59868606, -0.72222158],\n",
       "       [-0.36611284, -0.20768936],\n",
       "       [ 0.01381616,  0.2618125 ]])"
      ]
     },
     "metadata": {},
     "execution_count": 71
    }
   ],
   "source": [
    "omega_hat[0,0]"
   ]
  },
  {
   "cell_type": "code",
   "execution_count": null,
   "metadata": {},
   "outputs": [],
   "source": []
  }
 ]
}